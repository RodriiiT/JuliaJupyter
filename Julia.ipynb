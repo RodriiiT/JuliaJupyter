{
 "cells": [
  {
   "cell_type": "markdown",
   "metadata": {},
   "source": [
    "# Julia\n",
    "\n",
    "Julia es un lenguaje de programación de alto rendimiento y fácil de aprender. En este notebook, exploraremos algunos conceptos básicos de la sintaxis de Julia a través de ejemplos y ejercicios.\n",
    "\n",
    "## 1, Variables y tipos de Datos\n",
    "\n",
    "## Variables en julia, las variables se crean sinplenente asignándoles un valor.\n",
    "\n",
    "## Asignación de variables"
   ]
  },
  {
   "cell_type": "code",
   "execution_count": 4,
   "metadata": {},
   "outputs": [
    {
     "ename": "Base.Meta.ParseError",
     "evalue": "ParseError:\n# Error @ c:\\Users\\USUARIO\\Desktop\\Notebooks\\Julia.ipynb:1:2\na 10\r\n#└─┘ ── extra tokens after end of expression",
     "output_type": "error",
     "traceback": [
      "ParseError:\n",
      "# Error @ c:\\Users\\USUARIO\\Desktop\\Notebooks\\Julia.ipynb:1:2\n",
      "a 10\r\n",
      "#└─┘ ── extra tokens after end of expression\n",
      "\n",
      "Stacktrace:\n",
      " [1] top-level scope\n",
      "   @ c:\\Users\\USUARIO\\Desktop\\Notebooks\\Julia.ipynb:1"
     ]
    }
   ],
   "source": [
    "a = 10\n",
    "y = 3.14\n",
    "nombre = \"Julia\"\n",
    "\n",
    "println(\"x: $a, y: $y, nombre: $nombre\")"
   ]
  }
 ],
 "metadata": {
  "kernelspec": {
   "display_name": "Julia 1.10.3",
   "language": "julia",
   "name": "julia-1.10"
  },
  "language_info": {
   "file_extension": ".jl",
   "mimetype": "application/julia",
   "name": "julia",
   "version": "1.10.3"
  }
 },
 "nbformat": 4,
 "nbformat_minor": 2
}
