{
 "cells": [
  {
   "cell_type": "markdown",
   "metadata": {},
   "source": [
    "# Julia\n",
    "\n",
    "Julia es un lenguaje de programación de alto rendimiento y fácil de aprender. En este notebook, exploraremos algunos conceptos básicos de la sintaxis de Julia a través de ejemplos y ejercicios.\n",
    "\n",
    "## 1. Variables y tipos de Datos\n",
    "\n",
    "Variables en julia, las variables se crean sinplenente asignándoles un valor.\n",
    "\n",
    "## Asignación de variables"
   ]
  },
  {
   "cell_type": "code",
   "execution_count": 5,
   "metadata": {},
   "outputs": [
    {
     "name": "stdout",
     "output_type": "stream",
     "text": [
      "x: 10, y: 3.14, nombre: Julia\n"
     ]
    }
   ],
   "source": [
    "a = 10\n",
    "y = 3.14\n",
    "nombre = \"Julia\"\n",
    "\n",
    "println(\"x: $a, y: $y, nombre: $nombre\")"
   ]
  },
  {
   "cell_type": "markdown",
   "metadata": {},
   "source": [
    "# Tipos de Datos\n",
    "\n",
    "Julia tiene varios tipos de datos básicos, incluyendo enteros, flotantes,\n",
    "cadenas de caracteres, booleanos, y más."
   ]
  },
  {
   "cell_type": "code",
   "execution_count": 10,
   "metadata": {},
   "outputs": [
    {
     "name": "stdout",
     "output_type": "stream",
     "text": [
      "a: 5, b: 14.2, c: Hola, Julia, d: true\n"
     ]
    }
   ],
   "source": [
    "#Enteros\n",
    "a = 5\n",
    "\n",
    "#Flotantes\n",
    "b = 14.2\n",
    "\n",
    "#Strings\n",
    "c = \"Hola, Julia\"\n",
    "\n",
    "#Booleanos\n",
    "d = true\n",
    "\n",
    "println(\"a: $a, b: $b, c: $c, d: $d\")"
   ]
  },
  {
   "cell_type": "markdown",
   "metadata": {},
   "source": [
    "## Operadores y Expresiones\n",
    "\n",
    "Julia soporta los operadores aritméticos comunes: +, -, *, /, %, ^."
   ]
  },
  {
   "cell_type": "code",
   "execution_count": 15,
   "metadata": {},
   "outputs": [
    {
     "name": "stdout",
     "output_type": "stream",
     "text": [
      "Suma: 10, Resta: 6, Multiplicación: 48, División:4.0, modulo: 2, Potencia:8\n"
     ]
    }
   ],
   "source": [
    "#Operadores aritmeticos\n",
    "suma = 3 + 7\n",
    "resta = 10 - 4\n",
    "multiplicacion = 6 * 8\n",
    "division = 20 / 5\n",
    "modulo = 17 % 3\n",
    "potencia = 2^3\n",
    "println(\"Suma: $suma, Resta: $resta, Multiplicación: $multiplicacion, División:$division, modulo: $modulo, Potencia:$potencia\")"
   ]
  },
  {
   "cell_type": "markdown",
   "metadata": {},
   "source": [
    "## Operadores lógicos y de comparación\n",
    "Existen tres operadores lógicos en Julia los cuales son: `&&` (Y lógico), `||` (O lógico), y `!` (NO lógico).\n",
    "\n",
    "Los operadores de comparación son: `>` (mayor que), `<` (menor que), `>=` (mayor igual que), `<=` (menor igual que) y `!=` (distinto que).\n"
   ]
  },
  {
   "cell_type": "code",
   "execution_count": 17,
   "metadata": {},
   "outputs": [
    {
     "data": {
      "text/plain": [
       "true"
      ]
     },
     "metadata": {},
     "output_type": "display_data"
    }
   ],
   "source": [
    "x = 3\n",
    "y = 2\n",
    "z = 1\n",
    "\n",
    "(x > y) && (z < x)"
   ]
  },
  {
   "cell_type": "code",
   "execution_count": 20,
   "metadata": {},
   "outputs": [
    {
     "data": {
      "text/plain": [
       "true"
      ]
     },
     "metadata": {},
     "output_type": "display_data"
    }
   ],
   "source": [
    "(x >= y) || (z <= x)"
   ]
  },
  {
   "cell_type": "code",
   "execution_count": 21,
   "metadata": {},
   "outputs": [
    {
     "data": {
      "text/plain": [
       "false"
      ]
     },
     "metadata": {},
     "output_type": "display_data"
    }
   ],
   "source": [
    "!(x > y) && (z!=x)"
   ]
  },
  {
   "cell_type": "markdown",
   "metadata": {},
   "source": [
    "## Condicionales\n",
    "\n",
    "Los condicionales en Julia permiten controlar el flujo de un programa en base a ciertas condiciones. Los condicionales son:\n",
    "\n",
    "- `if` -> Si la condición es verdadera, ejecuta el bloque de código. \n",
    "- `else` -> Si la condición anterior no es verdadera, ejecuta este bloque de código.\n",
    "- `elseif` -> Si las condiciones anteriores no son verdaderas, pero esta condición sí, ejecuta este bloque de código.\n",
    "- `end` -> Esta palabra clave marca el final del bloque condicional."
   ]
  }
 ],
 "metadata": {
  "kernelspec": {
   "display_name": "Julia 1.10.3",
   "language": "julia",
   "name": "julia-1.10"
  },
  "language_info": {
   "file_extension": ".jl",
   "mimetype": "application/julia",
   "name": "julia",
   "version": "1.10.3"
  }
 },
 "nbformat": 4,
 "nbformat_minor": 2
}
