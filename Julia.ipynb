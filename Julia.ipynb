{
 "cells": [
  {
   "cell_type": "markdown",
   "metadata": {},
   "source": [
    "# Julia\n",
    "\n",
    "Julia es un lenguaje de programación de alto rendimiento y fácil de aprender. En este notebook, exploraremos algunos conceptos básicos de la sintaxis de Julia a través de ejemplos y ejercicios.\n",
    "\n",
    "## 1. Variables y tipos de Datos\n",
    "\n",
    "Variables en julia, las variables se crean sinplenente asignándoles un valor.\n",
    "\n",
    "## Asignación de variables"
   ]
  },
  {
   "cell_type": "code",
   "execution_count": null,
   "metadata": {},
   "outputs": [],
   "source": [
    "a = 10\n",
    "y = 3.14\n",
    "nombre = \"Julia\"\n",
    "\n",
    "println(\"x: $a, y: $y, nombre: $nombre\")"
   ]
  },
  {
   "cell_type": "markdown",
   "metadata": {},
   "source": [
    "# Tipos de Datos\n",
    "\n",
    "Julia tiene varios tipos de datos básicos, incluyendo enteros, flotantes,\n",
    "cadenas de caracteres, booleanos, y más."
   ]
  },
  {
   "cell_type": "code",
   "execution_count": null,
   "metadata": {},
   "outputs": [],
   "source": [
    "#Enteros\n",
    "a = 5\n",
    "\n",
    "#Flotantes\n",
    "b = 14.2\n",
    "\n",
    "#Strings\n",
    "c = \"Hola, Julia\"\n",
    "\n",
    "#Booleanos\n",
    "d = true\n",
    "\n",
    "println(\"a: $a, b: $b, c: $c, d: $d\")"
   ]
  },
  {
   "cell_type": "markdown",
   "metadata": {},
   "source": [
    "## Operadores y Expresiones\n",
    "\n",
    "Julia soporta los operadores aritméticos comunes: `+`, `-`, `*`, `/`, `%`, `^`."
   ]
  },
  {
   "cell_type": "code",
   "execution_count": null,
   "metadata": {},
   "outputs": [],
   "source": [
    "#Operadores aritmeticos\n",
    "suma = 3 + 7\n",
    "resta = 10 - 4\n",
    "multiplicacion = 6 * 8\n",
    "division = 20 / 5\n",
    "modulo = 17 % 3\n",
    "potencia = 2^3\n",
    "println(\"Suma: $suma, Resta: $resta, Multiplicación: $multiplicacion, División:$division, modulo: $modulo, Potencia:$potencia\")"
   ]
  },
  {
   "cell_type": "markdown",
   "metadata": {},
   "source": [
    "## Operadores lógicos y de comparación\n",
    "Existen tres operadores lógicos en Julia los cuales son: `&&` (Y lógico), `||` (O lógico), y `!` (NO lógico).\n",
    "\n",
    "Los operadores de comparación son: \n",
    "- `==`: (igual que) \n",
    "- `>`: (mayor que) \n",
    "- `<`: (menor que)\n",
    "- `>=`: (mayor igual que)\n",
    "- `<=`: (menor igual que)\n",
    "- `!=`: (distinto que).\n"
   ]
  },
  {
   "cell_type": "code",
   "execution_count": null,
   "metadata": {},
   "outputs": [],
   "source": [
    "x = 3\n",
    "y = 2\n",
    "z = 1\n",
    "\n",
    "(x > y) && (z < x)"
   ]
  },
  {
   "cell_type": "code",
   "execution_count": null,
   "metadata": {},
   "outputs": [],
   "source": [
    "(x >= y) || (z <= x)"
   ]
  },
  {
   "cell_type": "code",
   "execution_count": null,
   "metadata": {},
   "outputs": [],
   "source": [
    "!(x > y) && (z!=x)"
   ]
  },
  {
   "cell_type": "markdown",
   "metadata": {},
   "source": [
    "## Condicionales\n",
    "\n",
    "Los condicionales en Julia permiten controlar el flujo de un programa en base a ciertas condiciones. Los condicionales son:\n",
    "\n",
    "- `if` -> Si la condición es verdadera, ejecuta el bloque de código. \n",
    "- `else` -> Si la condición anterior no es verdadera, ejecuta este bloque de código.\n",
    "- `elseif` -> Si las condiciones anteriores no son verdaderas, pero esta condición sí, ejecuta este bloque de código.\n",
    "- `end` -> Esta palabra clave marca el final del bloque condicional."
   ]
  },
  {
   "cell_type": "code",
   "execution_count": null,
   "metadata": {},
   "outputs": [],
   "source": [
    "x = 10\n",
    "y = 5\n",
    "z = 1\n",
    "\n",
    "if (x > y)\n",
    "    println(\"$x es mayor que $y\")\n",
    "end"
   ]
  },
  {
   "cell_type": "code",
   "execution_count": null,
   "metadata": {},
   "outputs": [],
   "source": [
    "if (z > y)\n",
    "    println(\"$z es mayor que $y\")\n",
    "else\n",
    "    println(\"$z es menor que $y\")\n",
    "end"
   ]
  },
  {
   "cell_type": "code",
   "execution_count": null,
   "metadata": {},
   "outputs": [],
   "source": [
    "if (y > x)\n",
    "    println(\"$y es mayor que $x\")\n",
    "elseif (x < z)\n",
    "    println(\"$x es menor que $z\")\n",
    "else\n",
    "    println(\"$x es mayor que $z\")\n",
    "end"
   ]
  },
  {
   "cell_type": "markdown",
   "metadata": {},
   "source": [
    "## Comentarios\n",
    "\n",
    "Igual que en el resto de lenguajes de programacion, los comentarios sirven como notas en caso de que un programa se vuelva mas complejo y complicado de leer, se utiliza `#` a inicio de linea para comentar, el programa ignora dicha linea"
   ]
  },
  {
   "cell_type": "code",
   "execution_count": null,
   "metadata": {},
   "outputs": [],
   "source": [
    "#Este metodo reliza comparaciones entre los valores\n",
    "\n",
    "x = 3\n",
    "y = 2\n",
    "z = 1\n",
    "\n",
    "print((x > y) && (z < x))"
   ]
  },
  {
   "cell_type": "markdown",
   "metadata": {},
   "source": [
    "<h1>Bucles</h1>\n",
    "Julia soporta bucles for y while."
   ]
  },
  {
   "cell_type": "code",
   "execution_count": 1,
   "metadata": {},
   "outputs": [
    {
     "name": "stdout",
     "output_type": "stream",
     "text": [
      "Iteración 1\n",
      "Iteración 2\n",
      "Iteración 3\n",
      "Iteración 4\n",
      "Iteración 5\n",
      "Contador: 1\n",
      "Contador: 2\n",
      "Contador: 3\n",
      "Contador: 4\n",
      "Contador: 5\n"
     ]
    }
   ],
   "source": [
    "# Bucle for\n",
    "for i in 1:5\n",
    "    println(\"Iteración $i\")\n",
    "end\n",
    "\n",
    "# Bucle while\n",
    "contador = 1\n",
    "while contador <= 5\n",
    "    println(\"Contador: $contador\")\n",
    "    contador += 1\n",
    "end"
   ]
  }
 ],
 "metadata": {
  "kernelspec": {
   "display_name": "Julia 1.10.3",
   "language": "julia",
   "name": "julia-1.10"
  },
  "language_info": {
   "file_extension": ".jl",
   "mimetype": "application/julia",
   "name": "julia",
   "version": "1.10.3"
  }
 },
 "nbformat": 4,
 "nbformat_minor": 2
}
