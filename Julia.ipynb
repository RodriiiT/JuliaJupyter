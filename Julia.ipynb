{
 "cells": [
  {
   "cell_type": "markdown",
   "metadata": {},
   "source": [
    "# Julia\n",
    "\n",
    "Julia es un lenguaje de programación de alto rendimiento y fácil de aprender. En este notebook, exploraremos algunos conceptos básicos de la sintaxis de Julia a través de ejemplos y ejercicios.\n",
    "\n",
    "## 1. Variables y tipos de Datos\n",
    "\n",
    "Variables en julia, las variables se crean sinplenente asignándoles un valor.\n",
    "\n",
    "## Asignación de variables"
   ]
  },
  {
   "cell_type": "code",
   "execution_count": 5,
   "metadata": {},
   "outputs": [
    {
     "name": "stdout",
     "output_type": "stream",
     "text": [
      "x: 10, y: 3.14, nombre: Julia\n"
     ]
    }
   ],
   "source": [
    "a = 10\n",
    "y = 3.14\n",
    "nombre = \"Julia\"\n",
    "\n",
    "println(\"x: $a, y: $y, nombre: $nombre\")"
   ]
  },
  {
   "cell_type": "markdown",
   "metadata": {},
   "source": [
    "# Tipos de Datos\n",
    "\n",
    "Julia tiene varios tipos de datos básicos, incluyendo enteros, flotantes,\n",
    "cadenas de caracteres, booleanos, y más."
   ]
  },
  {
   "cell_type": "code",
   "execution_count": 10,
   "metadata": {},
   "outputs": [
    {
     "name": "stdout",
     "output_type": "stream",
     "text": [
      "a: 5, b: 14.2, c: Hola, Julia, d: true\n"
     ]
    }
   ],
   "source": [
    "#Enteros\n",
    "a = 5\n",
    "\n",
    "#Flotantes\n",
    "b = 14.2\n",
    "\n",
    "#Strings\n",
    "c = \"Hola, Julia\"\n",
    "\n",
    "#Booleanos\n",
    "d = true\n",
    "\n",
    "println(\"a: $a, b: $b, c: $c, d: $d\")"
   ]
  },
  {
   "cell_type": "markdown",
   "metadata": {},
   "source": [
    "## Operadores y Expresiones\n",
    "\n",
    "Julia soporta los operadores aritméticos comunes: +, -, *, /, %, ^."
   ]
  },
  {
   "cell_type": "code",
   "execution_count": 15,
   "metadata": {},
   "outputs": [
    {
     "name": "stdout",
     "output_type": "stream",
     "text": [
      "Suma: 10, Resta: 6, Multiplicación: 48, División:4.0, modulo: 2, Potencia:8\n"
     ]
    }
   ],
   "source": [
    "#Operadores aritmeticos\n",
    "suma = 3 + 7\n",
    "resta = 10 - 4\n",
    "multiplicacion = 6 * 8\n",
    "division = 20 / 5\n",
    "modulo = 17 % 3\n",
    "potencia = 2^3\n",
    "println(\"Suma: $suma, Resta: $resta, Multiplicación: $multiplicacion, División:$division, modulo: $modulo, Potencia:$potencia\")"
   ]
  }
 ],
 "metadata": {
  "kernelspec": {
   "display_name": "Julia 1.10.3",
   "language": "julia",
   "name": "julia-1.10"
  },
  "language_info": {
   "file_extension": ".jl",
   "mimetype": "application/julia",
   "name": "julia",
   "version": "1.10.3"
  }
 },
 "nbformat": 4,
 "nbformat_minor": 2
}
